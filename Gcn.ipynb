{
 "cells": [
  {
   "cell_type": "code",
   "execution_count": 20,
   "metadata": {},
   "outputs": [],
   "source": [
    "import math\n",
    "import torch.nn as nn\n",
    "import torch.nn.functional as F"
   ]
  },
  {
   "cell_type": "code",
   "execution_count": 21,
   "metadata": {},
   "outputs": [],
   "source": [
    "class GraphConvolution(Module):\n",
    "    def __init__(self, in_features, out_features, bias=True):\n",
    "        super().__init__()\n",
    "        \n",
    "        self.in_features = in_features\n",
    "        self.out_features = out_features\n",
    "        self.weight = nn.Parameter(torch.FloatTensor(in_features, out_features))\n",
    "        \n",
    "        if bias:\n",
    "            self.bias = nn.Parameter(torch.FloatTensor(out_features, 1))\n",
    "        else:\n",
    "            self.bias = None\n",
    "       \n",
    "        self.init_parameters()\n",
    "\n",
    "    def init_parameters(self):\n",
    "        # Pytorch initialization (see docs)\n",
    "        stdv = 1. / math.sqrt(self.weight.size(1))\n",
    "        self.weight.data.uniform_(-stdv, stdv)\n",
    "        if self.bias is not None:\n",
    "            self.bias.data.uniform_(-stdv, stdv)\n",
    "\n",
    "    def forward(self, node_features, adj_matrix):\n",
    "        aggregate_features = torch.matmul(adj_matrix, node_features)\n",
    "        output = aggregate_features\n",
    "        \n",
    "        # Add bias if necessary\n",
    "        if self.bias is not None:\n",
    "            output =  output + self.bias\n",
    "        return output"
   ]
  },
  {
   "cell_type": "code",
   "execution_count": 70,
   "metadata": {},
   "outputs": [],
   "source": [
    "class Gcn(nn.Module):\n",
    "    def __init__(self, num_of_layers, hidden_size, num_of_classes, dropout=0.0):\n",
    "        super().__init__()\n",
    "        \n",
    "        self.dropout = dropout\n",
    "        self.hidden_size = hidden_size\n",
    "        self.num_of_layers = num_of_layers\n",
    "        self.num_of_layers = num_of_classes\n",
    "         \n",
    "        self.conv  = self.create_conv_sequence(self.num_of_layers,\n",
    "                                               self.hidden_size,\n",
    "                                               self.dropout)\n",
    "    \n",
    "    @staticmethod\n",
    "    def create_conv_sequence(num_of_layers, hidden_size, dropout):\n",
    "        conv = nn.Sequential()\n",
    "        for i in range(num_of_layers):\n",
    "            conv.add_module(\"Conv \" + str(i), GraphConvolution(hidden_size, hidden_size))\n",
    "            conv.add_module(\"Dropout \" + str(i), nn.Dropout(dropout))\n",
    "            conv.add_module(\"Activation \" + str(i), nn.LeakyReLU())\n",
    "        return conv\n",
    "        \n",
    "                             \n",
    "    def forward(self, x, adj):\n",
    "        x = self.conv(x, adj)\n",
    "        x = F.log_softmax(x, dim=1)\n",
    "        return x"
   ]
  },
  {
   "cell_type": "code",
   "execution_count": 72,
   "metadata": {},
   "outputs": [
    {
     "data": {
      "text/plain": [
       "Gcn(\n",
       "  (conv): Sequential(\n",
       "    (Conv 0): GraphConvolution()\n",
       "    (Dropout 0): Dropout(p=0.0)\n",
       "    (Activation 0): LeakyReLU(negative_slope=0.01)\n",
       "    (Conv 1): GraphConvolution()\n",
       "    (Dropout 1): Dropout(p=0.0)\n",
       "    (Activation 1): LeakyReLU(negative_slope=0.01)\n",
       "    (Conv 2): GraphConvolution()\n",
       "    (Dropout 2): Dropout(p=0.0)\n",
       "    (Activation 2): LeakyReLU(negative_slope=0.01)\n",
       "    (Conv 3): GraphConvolution()\n",
       "    (Dropout 3): Dropout(p=0.0)\n",
       "    (Activation 3): LeakyReLU(negative_slope=0.01)\n",
       "    (Conv 4): GraphConvolution()\n",
       "    (Dropout 4): Dropout(p=0.0)\n",
       "    (Activation 4): LeakyReLU(negative_slope=0.01)\n",
       "  )\n",
       ")"
      ]
     },
     "execution_count": 72,
     "metadata": {},
     "output_type": "execute_result"
    }
   ],
   "source": [
    "Gcn(5, 5, 5)"
   ]
  },
  {
   "cell_type": "code",
   "execution_count": 45,
   "metadata": {},
   "outputs": [],
   "source": [
    "a = nn.Sequential()"
   ]
  },
  {
   "cell_type": "code",
   "execution_count": 41,
   "metadata": {},
   "outputs": [],
   "source": [
    "a.add_module(\"sad\", nn.LeakyReLU())"
   ]
  },
  {
   "cell_type": "code",
   "execution_count": 42,
   "metadata": {},
   "outputs": [
    {
     "data": {
      "text/plain": [
       "Sequential(\n",
       "  (sad): LeakyReLU(negative_slope=0.01)\n",
       ")"
      ]
     },
     "execution_count": 42,
     "metadata": {},
     "output_type": "execute_result"
    }
   ],
   "source": [
    "a"
   ]
  },
  {
   "cell_type": "code",
   "execution_count": null,
   "metadata": {},
   "outputs": [],
   "source": []
  }
 ],
 "metadata": {
  "kernelspec": {
   "display_name": "Python 3",
   "language": "python",
   "name": "python3"
  },
  "language_info": {
   "codemirror_mode": {
    "name": "ipython",
    "version": 3
   },
   "file_extension": ".py",
   "mimetype": "text/x-python",
   "name": "python",
   "nbconvert_exporter": "python",
   "pygments_lexer": "ipython3",
   "version": "3.6.8"
  }
 },
 "nbformat": 4,
 "nbformat_minor": 2
}
