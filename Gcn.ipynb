{
 "cells": [
  {
   "cell_type": "code",
   "execution_count": 1,
   "metadata": {},
   "outputs": [],
   "source": [
    "import math\n",
    "import torch.nn as nn\n",
    "import torch.nn.functional as F\n",
    "import matplotlib.pyplot as plt\n",
    "\n",
    "from train import *\n",
    "from model import Gcn\n",
    "from utils import load_cora"
   ]
  },
  {
   "cell_type": "code",
   "execution_count": 2,
   "metadata": {},
   "outputs": [
    {
     "name": "stdout",
     "output_type": "stream",
     "text": [
      "Loading cora dataset...\n"
     ]
    }
   ],
   "source": [
    "dataset = load_cora()\n",
    "adj, features, labels, idx_train, idx_val, idx_test = dataset"
   ]
  },
  {
   "cell_type": "code",
   "execution_count": 3,
   "metadata": {},
   "outputs": [],
   "source": [
    "# Network parameters\n",
    "hidden_size = 16\n",
    "dropout = 0.2\n",
    "\n",
    "# Train parameters (Adam optimizer is used)\n",
    "epochs = 400\n",
    "lr = 0.003"
   ]
  },
  {
   "cell_type": "code",
   "execution_count": 8,
   "metadata": {},
   "outputs": [],
   "source": [
    "# no skip connections\n",
    "no_skip_test_results = []\n",
    "no_skip_train_history = []\n",
    "\n",
    "for i in range(6):\n",
    "    model = Gcn(nfeatures=features.shape[1],\n",
    "                nhidden_layers=i,\n",
    "                hidden_size= hidden_size,\n",
    "                nclasses=labels.max().item() + 1,\n",
    "                dropout=dropout)\n",
    "    \n",
    "    if torch.cuda.is_available():\n",
    "        dataset = [x.cuda() for x in dataset]\n",
    "        model = model.cuda()\n",
    "\n",
    "    optimizer = optim.Adam(model.parameters(), lr=lr)\n",
    "    \n",
    "    current_losses = train(model, dataset,optimizer, epochs)\n",
    "    no_skip_train_history.append(current_losses)\n",
    "    no_skip_test_results.append(test(model, dataset))"
   ]
  },
  {
   "cell_type": "code",
   "execution_count": 22,
   "metadata": {},
   "outputs": [],
   "source": [
    "# skip connections\n",
    "skip_test_results = []\n",
    "skip_train_history = []\n",
    "\n",
    "for i in range(6):\n",
    "    model = Gcn(nfeatures=features.shape[1],\n",
    "                nhidden_layers=i,\n",
    "                hidden_size= hidden_size,\n",
    "                nclasses=labels.max().item() + 1,\n",
    "                dropout=dropout,\n",
    "                use_skip_connection=True)\n",
    "    \n",
    "    if torch.cuda.is_available():\n",
    "        dataset = [x.cuda() for x in dataset]\n",
    "        model = model.cuda()\n",
    "\n",
    "    optimizer = optim.Adam(model.parameters(), lr=lr)\n",
    "    \n",
    "    current_losses = train(model, dataset,optimizer, epochs)\n",
    "    skip_train_history.append(current_losses)\n",
    "    skip_test_results.append(test(model, dataset))"
   ]
  },
  {
   "cell_type": "code",
   "execution_count": 32,
   "metadata": {},
   "outputs": [
    {
     "data": {
      "image/png": "[encoded data removed]",
      "text/plain": [
       "<Figure size 432x288 with 1 Axes>"
      ]
     },
     "metadata": {
      "needs_background": "light"
     },
     "output_type": "display_data"
    }
   ],
   "source": [
    "plt.plot(range(2, 8), skip_test_results, 'ro', label =\"using skip connections\")\n",
    "plt.plot(range(2, 8), no_skip_test_results, 'bs', label =\"no skip connections\")\n",
    "plt.legend(loc='lower left')\n",
    "plt.show()"
   ]
  },
  {
   "cell_type": "code",
   "execution_count": null,
   "metadata": {},
   "outputs": [],
   "source": []
  }
 ],
 "metadata": {
  "kernelspec": {
   "display_name": "Python 3",
   "language": "python",
   "name": "python3"
  },
  "language_info": {
   "codemirror_mode": {
    "name": "ipython",
    "version": 3
   },
   "file_extension": ".py",
   "mimetype": "text/x-python",
   "name": "python",
   "nbconvert_exporter": "python",
   "pygments_lexer": "ipython3",
   "version": "3.6.8"
  }
 },
 "nbformat": 4,
 "nbformat_minor": 2
}
